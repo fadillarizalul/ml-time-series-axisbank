{
  "nbformat": 4,
  "nbformat_minor": 0,
  "metadata": {
    "colab": {
      "name": "submission-time-series",
      "provenance": [],
      "collapsed_sections": []
    },
    "kernelspec": {
      "display_name": "Python 3",
      "name": "python3"
    },
    "language_info": {
      "name": "python"
    }
  },
  "cells": [
    {
      "cell_type": "markdown",
      "metadata": {
        "id": "udS8vXs1YLW9"
      },
      "source": [
        "KRITERIA:\n",
        "1. Dataset yang akan dipakai bebas, namun minimal memiliki 1000 sampel.\n",
        "2. Harus menggunakan LSTM dalam arsitektur model.\n",
        "3. Validation set sebesar 20% dari total dataset.\n",
        "4. Model harus menggunakan model sequential.\n",
        "5. Harus menggunakan Learning Rate pada Optimizer.\n",
        "6. MAE < 10% skala data.\n",
        "\n",
        "SARAN:\n",
        "1. Dataset yang digunakan memiliki banyak sampel data.\n",
        "2. Mengimplementasikan Callback\n",
        "3. Membuat plot loss dan akurasi pada saat training dan validation."
      ]
    },
    {
      "cell_type": "markdown",
      "metadata": {
        "id": "WoT-lndrYOts"
      },
      "source": [
        "# SUBMISSION PROYEK KEDUA: Membuat Model Machine Learning dengan Data Time Series"
      ]
    },
    {
      "cell_type": "markdown",
      "metadata": {
        "id": "00JmBn80biC6"
      },
      "source": [
        "oleh Fadilla Rizalul Yahya"
      ]
    },
    {
      "cell_type": "markdown",
      "metadata": {
        "id": "Lld2zDPkcVvU"
      },
      "source": [
        "Proyek ini merupakan pembuatan model ML dengan data time series. Dataset yang digunakan yaitu dataset harga saham dari DJIA 30 Stock Time Series dari situs Kaggle."
      ]
    },
    {
      "cell_type": "markdown",
      "metadata": {
        "id": "F1u6JR7esJis"
      },
      "source": [
        "# Set Up dan Import Library"
      ]
    },
    {
      "cell_type": "code",
      "metadata": {
        "id": "6sA7R-S0XUfS"
      },
      "source": [
        "import numpy as np\n",
        "import pandas as pd\n",
        "from keras.layers import Dense, LSTM\n",
        "import matplotlib.pyplot as plt\n",
        "import tensorflow as tf"
      ],
      "execution_count": 674,
      "outputs": []
    },
    {
      "cell_type": "code",
      "metadata": {
        "colab": {
          "base_uri": "https://localhost:8080/",
          "height": 204
        },
        "id": "ifeTLTie-tGC",
        "outputId": "849ef51f-401d-494a-f042-2794e8c03232"
      },
      "source": [
        "data = pd.read_csv('KO-stock.csv', parse_dates=['Date'])\n",
        "data.head()"
      ],
      "execution_count": 675,
      "outputs": [
        {
          "output_type": "execute_result",
          "data": {
            "text/html": [
              "<div>\n",
              "<style scoped>\n",
              "    .dataframe tbody tr th:only-of-type {\n",
              "        vertical-align: middle;\n",
              "    }\n",
              "\n",
              "    .dataframe tbody tr th {\n",
              "        vertical-align: top;\n",
              "    }\n",
              "\n",
              "    .dataframe thead th {\n",
              "        text-align: right;\n",
              "    }\n",
              "</style>\n",
              "<table border=\"1\" class=\"dataframe\">\n",
              "  <thead>\n",
              "    <tr style=\"text-align: right;\">\n",
              "      <th></th>\n",
              "      <th>Date</th>\n",
              "      <th>Open</th>\n",
              "      <th>High</th>\n",
              "      <th>Low</th>\n",
              "      <th>Close</th>\n",
              "      <th>Volume</th>\n",
              "      <th>Name</th>\n",
              "    </tr>\n",
              "  </thead>\n",
              "  <tbody>\n",
              "    <tr>\n",
              "      <th>0</th>\n",
              "      <td>2006-01-03</td>\n",
              "      <td>20.40</td>\n",
              "      <td>20.50</td>\n",
              "      <td>20.18</td>\n",
              "      <td>20.45</td>\n",
              "      <td>13640800</td>\n",
              "      <td>KO</td>\n",
              "    </tr>\n",
              "    <tr>\n",
              "      <th>1</th>\n",
              "      <td>2006-01-04</td>\n",
              "      <td>20.50</td>\n",
              "      <td>20.54</td>\n",
              "      <td>20.33</td>\n",
              "      <td>20.41</td>\n",
              "      <td>19993200</td>\n",
              "      <td>KO</td>\n",
              "    </tr>\n",
              "    <tr>\n",
              "      <th>2</th>\n",
              "      <td>2006-01-05</td>\n",
              "      <td>20.36</td>\n",
              "      <td>20.56</td>\n",
              "      <td>20.29</td>\n",
              "      <td>20.51</td>\n",
              "      <td>16613400</td>\n",
              "      <td>KO</td>\n",
              "    </tr>\n",
              "    <tr>\n",
              "      <th>3</th>\n",
              "      <td>2006-01-06</td>\n",
              "      <td>20.53</td>\n",
              "      <td>20.78</td>\n",
              "      <td>20.43</td>\n",
              "      <td>20.70</td>\n",
              "      <td>17122800</td>\n",
              "      <td>KO</td>\n",
              "    </tr>\n",
              "    <tr>\n",
              "      <th>4</th>\n",
              "      <td>2006-01-09</td>\n",
              "      <td>20.74</td>\n",
              "      <td>20.84</td>\n",
              "      <td>20.62</td>\n",
              "      <td>20.80</td>\n",
              "      <td>13819800</td>\n",
              "      <td>KO</td>\n",
              "    </tr>\n",
              "  </tbody>\n",
              "</table>\n",
              "</div>"
            ],
            "text/plain": [
              "        Date   Open   High    Low  Close    Volume Name\n",
              "0 2006-01-03  20.40  20.50  20.18  20.45  13640800   KO\n",
              "1 2006-01-04  20.50  20.54  20.33  20.41  19993200   KO\n",
              "2 2006-01-05  20.36  20.56  20.29  20.51  16613400   KO\n",
              "3 2006-01-06  20.53  20.78  20.43  20.70  17122800   KO\n",
              "4 2006-01-09  20.74  20.84  20.62  20.80  13819800   KO"
            ]
          },
          "metadata": {},
          "execution_count": 675
        }
      ]
    },
    {
      "cell_type": "code",
      "metadata": {
        "id": "sATsCVX5Wkk2",
        "colab": {
          "base_uri": "https://localhost:8080/",
          "height": 419
        },
        "outputId": "d7104f6e-123e-48d0-aeb7-37399f6f6fb5"
      },
      "source": [
        "data = data.drop(['Name'], axis=1)\n",
        "data"
      ],
      "execution_count": 676,
      "outputs": [
        {
          "output_type": "execute_result",
          "data": {
            "text/html": [
              "<div>\n",
              "<style scoped>\n",
              "    .dataframe tbody tr th:only-of-type {\n",
              "        vertical-align: middle;\n",
              "    }\n",
              "\n",
              "    .dataframe tbody tr th {\n",
              "        vertical-align: top;\n",
              "    }\n",
              "\n",
              "    .dataframe thead th {\n",
              "        text-align: right;\n",
              "    }\n",
              "</style>\n",
              "<table border=\"1\" class=\"dataframe\">\n",
              "  <thead>\n",
              "    <tr style=\"text-align: right;\">\n",
              "      <th></th>\n",
              "      <th>Date</th>\n",
              "      <th>Open</th>\n",
              "      <th>High</th>\n",
              "      <th>Low</th>\n",
              "      <th>Close</th>\n",
              "      <th>Volume</th>\n",
              "    </tr>\n",
              "  </thead>\n",
              "  <tbody>\n",
              "    <tr>\n",
              "      <th>0</th>\n",
              "      <td>2006-01-03</td>\n",
              "      <td>20.40</td>\n",
              "      <td>20.50</td>\n",
              "      <td>20.18</td>\n",
              "      <td>20.45</td>\n",
              "      <td>13640800</td>\n",
              "    </tr>\n",
              "    <tr>\n",
              "      <th>1</th>\n",
              "      <td>2006-01-04</td>\n",
              "      <td>20.50</td>\n",
              "      <td>20.54</td>\n",
              "      <td>20.33</td>\n",
              "      <td>20.41</td>\n",
              "      <td>19993200</td>\n",
              "    </tr>\n",
              "    <tr>\n",
              "      <th>2</th>\n",
              "      <td>2006-01-05</td>\n",
              "      <td>20.36</td>\n",
              "      <td>20.56</td>\n",
              "      <td>20.29</td>\n",
              "      <td>20.51</td>\n",
              "      <td>16613400</td>\n",
              "    </tr>\n",
              "    <tr>\n",
              "      <th>3</th>\n",
              "      <td>2006-01-06</td>\n",
              "      <td>20.53</td>\n",
              "      <td>20.78</td>\n",
              "      <td>20.43</td>\n",
              "      <td>20.70</td>\n",
              "      <td>17122800</td>\n",
              "    </tr>\n",
              "    <tr>\n",
              "      <th>4</th>\n",
              "      <td>2006-01-09</td>\n",
              "      <td>20.74</td>\n",
              "      <td>20.84</td>\n",
              "      <td>20.62</td>\n",
              "      <td>20.80</td>\n",
              "      <td>13819800</td>\n",
              "    </tr>\n",
              "    <tr>\n",
              "      <th>...</th>\n",
              "      <td>...</td>\n",
              "      <td>...</td>\n",
              "      <td>...</td>\n",
              "      <td>...</td>\n",
              "      <td>...</td>\n",
              "      <td>...</td>\n",
              "    </tr>\n",
              "    <tr>\n",
              "      <th>3015</th>\n",
              "      <td>2017-12-22</td>\n",
              "      <td>45.69</td>\n",
              "      <td>45.73</td>\n",
              "      <td>45.55</td>\n",
              "      <td>45.59</td>\n",
              "      <td>5406307</td>\n",
              "    </tr>\n",
              "    <tr>\n",
              "      <th>3016</th>\n",
              "      <td>2017-12-26</td>\n",
              "      <td>45.70</td>\n",
              "      <td>45.86</td>\n",
              "      <td>45.61</td>\n",
              "      <td>45.81</td>\n",
              "      <td>6100436</td>\n",
              "    </tr>\n",
              "    <tr>\n",
              "      <th>3017</th>\n",
              "      <td>2017-12-27</td>\n",
              "      <td>45.90</td>\n",
              "      <td>45.94</td>\n",
              "      <td>45.72</td>\n",
              "      <td>45.93</td>\n",
              "      <td>5660633</td>\n",
              "    </tr>\n",
              "    <tr>\n",
              "      <th>3018</th>\n",
              "      <td>2017-12-28</td>\n",
              "      <td>45.91</td>\n",
              "      <td>45.99</td>\n",
              "      <td>45.64</td>\n",
              "      <td>45.72</td>\n",
              "      <td>6538851</td>\n",
              "    </tr>\n",
              "    <tr>\n",
              "      <th>3019</th>\n",
              "      <td>2017-12-29</td>\n",
              "      <td>45.70</td>\n",
              "      <td>46.18</td>\n",
              "      <td>45.69</td>\n",
              "      <td>45.88</td>\n",
              "      <td>8371536</td>\n",
              "    </tr>\n",
              "  </tbody>\n",
              "</table>\n",
              "<p>3020 rows × 6 columns</p>\n",
              "</div>"
            ],
            "text/plain": [
              "           Date   Open   High    Low  Close    Volume\n",
              "0    2006-01-03  20.40  20.50  20.18  20.45  13640800\n",
              "1    2006-01-04  20.50  20.54  20.33  20.41  19993200\n",
              "2    2006-01-05  20.36  20.56  20.29  20.51  16613400\n",
              "3    2006-01-06  20.53  20.78  20.43  20.70  17122800\n",
              "4    2006-01-09  20.74  20.84  20.62  20.80  13819800\n",
              "...         ...    ...    ...    ...    ...       ...\n",
              "3015 2017-12-22  45.69  45.73  45.55  45.59   5406307\n",
              "3016 2017-12-26  45.70  45.86  45.61  45.81   6100436\n",
              "3017 2017-12-27  45.90  45.94  45.72  45.93   5660633\n",
              "3018 2017-12-28  45.91  45.99  45.64  45.72   6538851\n",
              "3019 2017-12-29  45.70  46.18  45.69  45.88   8371536\n",
              "\n",
              "[3020 rows x 6 columns]"
            ]
          },
          "metadata": {},
          "execution_count": 676
        }
      ]
    },
    {
      "cell_type": "code",
      "metadata": {
        "id": "2wbDYv9V-xH1",
        "colab": {
          "base_uri": "https://localhost:8080/"
        },
        "outputId": "7b3ba905-8adc-4998-e9d7-52fa162ef71e"
      },
      "source": [
        "data.isnull().sum()"
      ],
      "execution_count": 677,
      "outputs": [
        {
          "output_type": "execute_result",
          "data": {
            "text/plain": [
              "Date      0\n",
              "Open      1\n",
              "High      1\n",
              "Low       0\n",
              "Close     0\n",
              "Volume    0\n",
              "dtype: int64"
            ]
          },
          "metadata": {},
          "execution_count": 677
        }
      ]
    },
    {
      "cell_type": "code",
      "metadata": {
        "colab": {
          "base_uri": "https://localhost:8080/"
        },
        "id": "Sl7eAN_sRMns",
        "outputId": "92686e77-d3ae-484e-827f-05eacaa62bb5"
      },
      "source": [
        "data = data.fillna(method='ffill')\n",
        "data.isnull().sum()"
      ],
      "execution_count": 678,
      "outputs": [
        {
          "output_type": "execute_result",
          "data": {
            "text/plain": [
              "Date      0\n",
              "Open      0\n",
              "High      0\n",
              "Low       0\n",
              "Close     0\n",
              "Volume    0\n",
              "dtype: int64"
            ]
          },
          "metadata": {},
          "execution_count": 678
        }
      ]
    },
    {
      "cell_type": "code",
      "metadata": {
        "id": "7IQQrQ6YRQEO"
      },
      "source": [
        "# Inisialisasi SimpleImputer class\n",
        "#High_imputer = SimpleImputer(strategy='mean')\n",
        "# Isi missing values pada kolom\n",
        "#data['High'] = High_imputer.fit_transform(data['High'].values.reshape(-1,1))"
      ],
      "execution_count": 679,
      "outputs": []
    },
    {
      "cell_type": "code",
      "metadata": {
        "id": "sVD06GiG-1XS",
        "colab": {
          "base_uri": "https://localhost:8080/"
        },
        "outputId": "ae0afab7-f81c-440a-f85c-5eb7847c54c1"
      },
      "source": [
        "data.info()"
      ],
      "execution_count": 680,
      "outputs": [
        {
          "output_type": "stream",
          "name": "stdout",
          "text": [
            "<class 'pandas.core.frame.DataFrame'>\n",
            "RangeIndex: 3020 entries, 0 to 3019\n",
            "Data columns (total 6 columns):\n",
            " #   Column  Non-Null Count  Dtype         \n",
            "---  ------  --------------  -----         \n",
            " 0   Date    3020 non-null   datetime64[ns]\n",
            " 1   Open    3020 non-null   float64       \n",
            " 2   High    3020 non-null   float64       \n",
            " 3   Low     3020 non-null   float64       \n",
            " 4   Close   3020 non-null   float64       \n",
            " 5   Volume  3020 non-null   int64         \n",
            "dtypes: datetime64[ns](1), float64(4), int64(1)\n",
            "memory usage: 141.7 KB\n"
          ]
        }
      ]
    },
    {
      "cell_type": "markdown",
      "metadata": {
        "id": "XblbPU3TsPBv"
      },
      "source": [
        "# Pra-pemrosesan Data"
      ]
    },
    {
      "cell_type": "code",
      "metadata": {
        "id": "-NxoX6z8d385",
        "colab": {
          "base_uri": "https://localhost:8080/"
        },
        "outputId": "52140528-f7b3-4533-dd3f-b0777a630459"
      },
      "source": [
        "#Mengonversi Data Types agar setipe\n",
        "data['Volume'] = data['Volume'].astype('float64')\n",
        "\n",
        "print(data.dtypes)"
      ],
      "execution_count": 681,
      "outputs": [
        {
          "output_type": "stream",
          "name": "stdout",
          "text": [
            "Date      datetime64[ns]\n",
            "Open             float64\n",
            "High             float64\n",
            "Low              float64\n",
            "Close            float64\n",
            "Volume           float64\n",
            "dtype: object\n"
          ]
        }
      ]
    },
    {
      "cell_type": "code",
      "metadata": {
        "id": "b8rVpOzSeCtn"
      },
      "source": [
        "#data_train.info()"
      ],
      "execution_count": 682,
      "outputs": []
    },
    {
      "cell_type": "code",
      "metadata": {
        "id": "_84NuU8H_FOG",
        "colab": {
          "base_uri": "https://localhost:8080/"
        },
        "outputId": "8226c77c-d712-4642-8894-17042a44aba2"
      },
      "source": [
        "# Check for duplicate values\n",
        "data.duplicated().any()"
      ],
      "execution_count": 683,
      "outputs": [
        {
          "output_type": "execute_result",
          "data": {
            "text/plain": [
              "False"
            ]
          },
          "metadata": {},
          "execution_count": 683
        }
      ]
    },
    {
      "cell_type": "code",
      "metadata": {
        "id": "cOGmvstIdEEi"
      },
      "source": [
        "#data_train = data_train.reshape(-1,1)"
      ],
      "execution_count": 684,
      "outputs": []
    },
    {
      "cell_type": "code",
      "metadata": {
        "id": "cFTmIB_zBqj_",
        "colab": {
          "base_uri": "https://localhost:8080/",
          "height": 341
        },
        "outputId": "3817fe80-2b09-493b-a95c-277c11901937"
      },
      "source": [
        "plt.figure(figsize=(15,5))\n",
        "plt.plot(data['Date'], data['Open'])\n",
        "plt.title('Grafik Harga Open Saham KO',\n",
        "          fontsize=20);"
      ],
      "execution_count": 685,
      "outputs": [
        {
          "output_type": "display_data",
          "data": {
            "image/png": "[encoded data removed]",
            "text/plain": [
              "<Figure size 1080x360 with 1 Axes>"
            ]
          },
          "metadata": {
            "needs_background": "light"
          }
        }
      ]
    },
    {
      "cell_type": "code",
      "metadata": {
        "id": "9yTQQqVGdaKT"
      },
      "source": [
        "#Features for training\n",
        "cols = list(data)[1:]\n",
        "\n",
        "data_cols = data[cols].astype(float)"
      ],
      "execution_count": 686,
      "outputs": []
    },
    {
      "cell_type": "code",
      "metadata": {
        "id": "4zwT57HB-bWX",
        "colab": {
          "base_uri": "https://localhost:8080/"
        },
        "outputId": "1cb5b0eb-8251-4cc8-bd3d-f6450a045e08"
      },
      "source": [
        "cols"
      ],
      "execution_count": 687,
      "outputs": [
        {
          "output_type": "execute_result",
          "data": {
            "text/plain": [
              "['Open', 'High', 'Low', 'Close', 'Volume']"
            ]
          },
          "metadata": {},
          "execution_count": 687
        }
      ]
    },
    {
      "cell_type": "code",
      "metadata": {
        "id": "wdtNFUuMdvZS"
      },
      "source": [
        "from sklearn.preprocessing import MinMaxScaler\n",
        "\n",
        "scaler = MinMaxScaler()\n",
        "scaler = scaler.fit(data_cols)\n",
        "data_cols_scaled = scaler.transform(data_cols)"
      ],
      "execution_count": 688,
      "outputs": []
    },
    {
      "cell_type": "code",
      "metadata": {
        "id": "BYlvVRwRV2Op"
      },
      "source": [
        "dates = data['Date'].values\n",
        "open  = data['Open'].values"
      ],
      "execution_count": 689,
      "outputs": []
    },
    {
      "cell_type": "code",
      "metadata": {
        "id": "EihL7MUme4GK"
      },
      "source": [
        "dates = np.asarray(dates).astype('float32')\n",
        "open = np.asarray(open).astype('float32')"
      ],
      "execution_count": 690,
      "outputs": []
    },
    {
      "cell_type": "markdown",
      "metadata": {
        "id": "5aZ_3WMIsX3p"
      },
      "source": [
        "# Pembuatan Arsitektur Model"
      ]
    },
    {
      "cell_type": "code",
      "metadata": {
        "id": "-6CYfMb7mgKi"
      },
      "source": [
        "from sklearn.model_selection import train_test_split\n",
        "X_train, X_test, Y_train, Y_test = train_test_split(dates, open, test_size=0.2, random_state = 10 , shuffle=False)"
      ],
      "execution_count": 691,
      "outputs": []
    },
    {
      "cell_type": "code",
      "metadata": {
        "id": "68G8IhMU_Ozh"
      },
      "source": [
        "def windowed_dataset(series, window_size, batch_size, shuffle_buffer):\n",
        "    series = tf.expand_dims(series, axis=-1)\n",
        "    ds = tf.data.Dataset.from_tensor_slices(series)\n",
        "    ds = ds.window(window_size + 1, shift=1, drop_remainder=True)\n",
        "    ds = ds.flat_map(lambda w: w.batch(window_size + 1))\n",
        "    ds = ds.shuffle(shuffle_buffer)\n",
        "    ds = ds.map(lambda w: (w[:-1], w[-1:]))\n",
        "    return ds.batch(batch_size).prefetch(1)"
      ],
      "execution_count": 692,
      "outputs": []
    },
    {
      "cell_type": "code",
      "metadata": {
        "id": "N3VKlN_MceN5",
        "colab": {
          "base_uri": "https://localhost:8080/"
        },
        "outputId": "4684b446-f95a-495c-8299-313dba443ace"
      },
      "source": [
        "from tensorflow.keras.layers import LSTM,Dense,Bidirectional,Dropout\n",
        "\n",
        "train_set = windowed_dataset(Y_train, window_size=30, batch_size=32, shuffle_buffer=1000)\n",
        "model = tf.keras.models.Sequential([\n",
        "  tf.keras.layers.Bidirectional(LSTM(64, return_sequences=True)),\n",
        "  tf.keras.layers.Dropout(0.5),\n",
        "  tf.keras.layers.Bidirectional(LSTM(32, return_sequences=True)),\n",
        "  tf.keras.layers.Dropout(0.5),\n",
        "  tf.keras.layers.Dense(32, activation=\"relu\"),\n",
        "  tf.keras.layers.Dense(10, activation=\"relu\"),\n",
        "  tf.keras.layers.Dense(1),\n",
        "])\n",
        "\n",
        "optimizer = tf.keras.optimizers.SGD(lr=1.0000e-04, momentum=0.9)\n",
        "model.compile(loss=tf.keras.losses.Huber(),\n",
        "              optimizer=optimizer,\n",
        "              metrics=[\"mae\"])"
      ],
      "execution_count": 697,
      "outputs": [
        {
          "output_type": "stream",
          "name": "stderr",
          "text": [
            "/usr/local/lib/python3.7/dist-packages/keras/optimizer_v2/optimizer_v2.py:356: UserWarning: The `lr` argument is deprecated, use `learning_rate` instead.\n",
            "  \"The `lr` argument is deprecated, use `learning_rate` instead.\")\n"
          ]
        }
      ]
    },
    {
      "cell_type": "code",
      "metadata": {
        "id": "6rYjWPrpcgrv"
      },
      "source": [
        "# membuat fungsi call back\n",
        "class myCallback(tf.keras.callbacks.Callback):\n",
        "  def on_epoch_end(self, epoch, logs={}):\n",
        "    if(logs.get('mae')<0.1 or logs.get('val_mae')<0.1):  \n",
        "      print(\"\\n MAE sudah dibawah 10%\")\n",
        "      self.model.stop_training = True\n",
        "\n",
        "callbacks = myCallback()"
      ],
      "execution_count": 698,
      "outputs": []
    },
    {
      "cell_type": "markdown",
      "metadata": {
        "id": "yp0gX0FFskhk"
      },
      "source": [
        "# Mulai Pelatihan Model"
      ]
    },
    {
      "cell_type": "code",
      "metadata": {
        "id": "1GD16YR4RTDt",
        "colab": {
          "base_uri": "https://localhost:8080/"
        },
        "outputId": "4af6d1c9-2cd9-428d-b356-e4b46e33ef84"
      },
      "source": [
        "val_test = windowed_dataset(Y_test, window_size = 30, batch_size = 32, shuffle_buffer=1000)\n",
        "history = model.fit(train_set, validation_data = val_test, epochs=100, callbacks=[callbacks])"
      ],
      "execution_count": 699,
      "outputs": [
        {
          "output_type": "stream",
          "name": "stdout",
          "text": [
            "Epoch 1/100\n",
            "75/75 [==============================] - 68s 97ms/step - loss: 31.1954 - mae: 31.6954 - val_loss: 42.3553 - val_mae: 42.8553\n",
            "Epoch 2/100\n",
            "75/75 [==============================] - 5s 69ms/step - loss: 30.0262 - mae: 30.5262 - val_loss: 40.8598 - val_mae: 41.3598\n",
            "Epoch 3/100\n",
            "75/75 [==============================] - 5s 70ms/step - loss: 27.9907 - mae: 28.4907 - val_loss: 37.5254 - val_mae: 38.0254\n",
            "Epoch 4/100\n",
            "75/75 [==============================] - 6s 72ms/step - loss: 21.7613 - mae: 22.2612 - val_loss: 24.5734 - val_mae: 25.0734\n",
            "Epoch 5/100\n",
            "75/75 [==============================] - 5s 71ms/step - loss: 6.7993 - mae: 7.2857 - val_loss: 6.1095 - val_mae: 6.6083\n",
            "Epoch 6/100\n",
            "75/75 [==============================] - 5s 70ms/step - loss: 7.0494 - mae: 7.5362 - val_loss: 5.9081 - val_mae: 6.4067\n",
            "Epoch 7/100\n",
            "75/75 [==============================] - 5s 68ms/step - loss: 6.9138 - mae: 7.4003 - val_loss: 6.1715 - val_mae: 6.6708\n",
            "Epoch 8/100\n",
            "75/75 [==============================] - 5s 71ms/step - loss: 6.5637 - mae: 7.0494 - val_loss: 5.7938 - val_mae: 6.2925\n",
            "Epoch 9/100\n",
            "75/75 [==============================] - 6s 73ms/step - loss: 6.4461 - mae: 6.9313 - val_loss: 5.3097 - val_mae: 5.8082\n",
            "Epoch 10/100\n",
            "75/75 [==============================] - 5s 69ms/step - loss: 6.2785 - mae: 6.7634 - val_loss: 5.2069 - val_mae: 5.7053\n",
            "Epoch 11/100\n",
            "75/75 [==============================] - 5s 69ms/step - loss: 5.9285 - mae: 6.4118 - val_loss: 5.0505 - val_mae: 5.5486\n",
            "Epoch 12/100\n",
            "75/75 [==============================] - 5s 69ms/step - loss: 5.5974 - mae: 6.0804 - val_loss: 5.3446 - val_mae: 5.8434\n",
            "Epoch 13/100\n",
            "75/75 [==============================] - 5s 69ms/step - loss: 5.2625 - mae: 5.7438 - val_loss: 5.0656 - val_mae: 5.5644\n",
            "Epoch 14/100\n",
            "75/75 [==============================] - 5s 69ms/step - loss: 4.7246 - mae: 5.2042 - val_loss: 3.6742 - val_mae: 4.1576\n",
            "Epoch 15/100\n",
            "75/75 [==============================] - 5s 69ms/step - loss: 4.2872 - mae: 4.7649 - val_loss: 2.7077 - val_mae: 3.1581\n",
            "Epoch 16/100\n",
            "75/75 [==============================] - 5s 67ms/step - loss: 3.9725 - mae: 4.4480 - val_loss: 2.2746 - val_mae: 2.7209\n",
            "Epoch 17/100\n",
            "75/75 [==============================] - 5s 71ms/step - loss: 3.8312 - mae: 4.3058 - val_loss: 2.2360 - val_mae: 2.6811\n",
            "Epoch 18/100\n",
            "75/75 [==============================] - 5s 70ms/step - loss: 3.7113 - mae: 4.1853 - val_loss: 2.2474 - val_mae: 2.6910\n",
            "Epoch 19/100\n",
            "75/75 [==============================] - 6s 73ms/step - loss: 3.6463 - mae: 4.1197 - val_loss: 2.1284 - val_mae: 2.5746\n",
            "Epoch 20/100\n",
            "75/75 [==============================] - 6s 72ms/step - loss: 3.5470 - mae: 4.0195 - val_loss: 2.1077 - val_mae: 2.5541\n",
            "Epoch 21/100\n",
            "75/75 [==============================] - 6s 72ms/step - loss: 3.4899 - mae: 3.9618 - val_loss: 2.0640 - val_mae: 2.5098\n",
            "Epoch 22/100\n",
            "75/75 [==============================] - 6s 74ms/step - loss: 3.3933 - mae: 3.8647 - val_loss: 2.0408 - val_mae: 2.4856\n",
            "Epoch 23/100\n",
            "75/75 [==============================] - 6s 74ms/step - loss: 3.3185 - mae: 3.7896 - val_loss: 1.9721 - val_mae: 2.4182\n",
            "Epoch 24/100\n",
            "75/75 [==============================] - 5s 69ms/step - loss: 3.2492 - mae: 3.7194 - val_loss: 2.0401 - val_mae: 2.4793\n",
            "Epoch 25/100\n",
            "75/75 [==============================] - 5s 68ms/step - loss: 3.1810 - mae: 3.6509 - val_loss: 1.9712 - val_mae: 2.4106\n",
            "Epoch 26/100\n",
            "75/75 [==============================] - 5s 71ms/step - loss: 3.1184 - mae: 3.5876 - val_loss: 1.9417 - val_mae: 2.3810\n",
            "Epoch 27/100\n",
            "75/75 [==============================] - 5s 67ms/step - loss: 3.0722 - mae: 3.5410 - val_loss: 1.9297 - val_mae: 2.3671\n",
            "Epoch 28/100\n",
            "75/75 [==============================] - 5s 68ms/step - loss: 3.0225 - mae: 3.4913 - val_loss: 1.9091 - val_mae: 2.3460\n",
            "Epoch 29/100\n",
            "75/75 [==============================] - 5s 67ms/step - loss: 2.9486 - mae: 3.4161 - val_loss: 1.8690 - val_mae: 2.3060\n",
            "Epoch 30/100\n",
            "75/75 [==============================] - 5s 70ms/step - loss: 2.9008 - mae: 3.3677 - val_loss: 1.8664 - val_mae: 2.3023\n",
            "Epoch 31/100\n",
            "75/75 [==============================] - 5s 66ms/step - loss: 2.8582 - mae: 3.3251 - val_loss: 1.7926 - val_mae: 2.2310\n",
            "Epoch 32/100\n",
            "75/75 [==============================] - 5s 70ms/step - loss: 2.8136 - mae: 3.2803 - val_loss: 1.8301 - val_mae: 2.2644\n",
            "Epoch 33/100\n",
            "75/75 [==============================] - 6s 72ms/step - loss: 2.7603 - mae: 3.2260 - val_loss: 1.8006 - val_mae: 2.2345\n",
            "Epoch 34/100\n",
            "75/75 [==============================] - 6s 72ms/step - loss: 2.6974 - mae: 3.1627 - val_loss: 1.7708 - val_mae: 2.2035\n",
            "Epoch 35/100\n",
            "75/75 [==============================] - 5s 68ms/step - loss: 2.6619 - mae: 3.1268 - val_loss: 1.7367 - val_mae: 2.1685\n",
            "Epoch 36/100\n",
            "75/75 [==============================] - 5s 67ms/step - loss: 2.6013 - mae: 3.0653 - val_loss: 1.7602 - val_mae: 2.1914\n",
            "Epoch 37/100\n",
            "75/75 [==============================] - 6s 72ms/step - loss: 2.5612 - mae: 3.0245 - val_loss: 1.6639 - val_mae: 2.0953\n",
            "Epoch 38/100\n",
            "75/75 [==============================] - 5s 68ms/step - loss: 2.5221 - mae: 2.9850 - val_loss: 1.6407 - val_mae: 2.0718\n",
            "Epoch 39/100\n",
            "75/75 [==============================] - 6s 72ms/step - loss: 2.4865 - mae: 2.9490 - val_loss: 1.6772 - val_mae: 2.1062\n",
            "Epoch 40/100\n",
            "75/75 [==============================] - 5s 69ms/step - loss: 2.4183 - mae: 2.8794 - val_loss: 1.6171 - val_mae: 2.0456\n",
            "Epoch 41/100\n",
            "75/75 [==============================] - 5s 71ms/step - loss: 2.3770 - mae: 2.8383 - val_loss: 1.6258 - val_mae: 2.0550\n",
            "Epoch 42/100\n",
            "75/75 [==============================] - 5s 69ms/step - loss: 2.3446 - mae: 2.8047 - val_loss: 1.5828 - val_mae: 2.0118\n",
            "Epoch 43/100\n",
            "75/75 [==============================] - 5s 67ms/step - loss: 2.2943 - mae: 2.7537 - val_loss: 1.5253 - val_mae: 1.9536\n",
            "Epoch 44/100\n",
            "75/75 [==============================] - 5s 71ms/step - loss: 2.2555 - mae: 2.7150 - val_loss: 1.5140 - val_mae: 1.9420\n",
            "Epoch 45/100\n",
            "75/75 [==============================] - 5s 71ms/step - loss: 2.2388 - mae: 2.6968 - val_loss: 1.5350 - val_mae: 1.9626\n",
            "Epoch 46/100\n",
            "75/75 [==============================] - 5s 70ms/step - loss: 2.1845 - mae: 2.6432 - val_loss: 1.5895 - val_mae: 2.0151\n",
            "Epoch 47/100\n",
            "75/75 [==============================] - 6s 74ms/step - loss: 2.1323 - mae: 2.5895 - val_loss: 1.6579 - val_mae: 2.0855\n",
            "Epoch 48/100\n",
            "75/75 [==============================] - 5s 71ms/step - loss: 2.0788 - mae: 2.5360 - val_loss: 1.7381 - val_mae: 2.1717\n",
            "Epoch 49/100\n",
            "75/75 [==============================] - 5s 71ms/step - loss: 2.0550 - mae: 2.5109 - val_loss: 1.6605 - val_mae: 2.0895\n",
            "Epoch 50/100\n",
            "75/75 [==============================] - 6s 75ms/step - loss: 2.0315 - mae: 2.4870 - val_loss: 1.4874 - val_mae: 1.9120\n",
            "Epoch 51/100\n",
            "75/75 [==============================] - 6s 73ms/step - loss: 1.9727 - mae: 2.4269 - val_loss: 1.3762 - val_mae: 1.8009\n",
            "Epoch 52/100\n",
            "75/75 [==============================] - 6s 75ms/step - loss: 1.9424 - mae: 2.3961 - val_loss: 1.5534 - val_mae: 1.9782\n",
            "Epoch 53/100\n",
            "75/75 [==============================] - 5s 71ms/step - loss: 1.9085 - mae: 2.3610 - val_loss: 1.8278 - val_mae: 2.2748\n",
            "Epoch 54/100\n",
            "75/75 [==============================] - 6s 73ms/step - loss: 1.8447 - mae: 2.2967 - val_loss: 1.5798 - val_mae: 2.0082\n",
            "Epoch 55/100\n",
            "75/75 [==============================] - 5s 71ms/step - loss: 1.8173 - mae: 2.2686 - val_loss: 2.1478 - val_mae: 2.6156\n",
            "Epoch 56/100\n",
            "75/75 [==============================] - 5s 69ms/step - loss: 1.8044 - mae: 2.2560 - val_loss: 1.3424 - val_mae: 1.7654\n",
            "Epoch 57/100\n",
            "75/75 [==============================] - 5s 69ms/step - loss: 1.7557 - mae: 2.2053 - val_loss: 1.8158 - val_mae: 2.2657\n",
            "Epoch 58/100\n",
            "75/75 [==============================] - 5s 71ms/step - loss: 1.7212 - mae: 2.1709 - val_loss: 1.5146 - val_mae: 1.9419\n",
            "Epoch 59/100\n",
            "75/75 [==============================] - 6s 72ms/step - loss: 1.6767 - mae: 2.1246 - val_loss: 1.4311 - val_mae: 1.8533\n",
            "Epoch 60/100\n",
            "75/75 [==============================] - 6s 74ms/step - loss: 1.6368 - mae: 2.0834 - val_loss: 1.8475 - val_mae: 2.3030\n",
            "Epoch 61/100\n",
            "75/75 [==============================] - 5s 67ms/step - loss: 1.6338 - mae: 2.0811 - val_loss: 1.8020 - val_mae: 2.2542\n",
            "Epoch 62/100\n",
            "75/75 [==============================] - 6s 74ms/step - loss: 1.5937 - mae: 2.0393 - val_loss: 1.7859 - val_mae: 2.2384\n",
            "Epoch 63/100\n",
            "75/75 [==============================] - 6s 74ms/step - loss: 1.5553 - mae: 1.9998 - val_loss: 1.4656 - val_mae: 1.8923\n",
            "Epoch 64/100\n",
            "75/75 [==============================] - 5s 70ms/step - loss: 1.5483 - mae: 1.9933 - val_loss: 1.5646 - val_mae: 2.0017\n",
            "Epoch 65/100\n",
            "75/75 [==============================] - 5s 67ms/step - loss: 1.5105 - mae: 1.9529 - val_loss: 2.0397 - val_mae: 2.5073\n",
            "Epoch 66/100\n",
            "75/75 [==============================] - 5s 70ms/step - loss: 1.4740 - mae: 1.9163 - val_loss: 1.9588 - val_mae: 2.4226\n",
            "Epoch 67/100\n",
            "75/75 [==============================] - 6s 74ms/step - loss: 1.4518 - mae: 1.8927 - val_loss: 1.3134 - val_mae: 1.7350\n",
            "Epoch 68/100\n",
            "75/75 [==============================] - 5s 69ms/step - loss: 1.4517 - mae: 1.8931 - val_loss: 1.2793 - val_mae: 1.6999\n",
            "Epoch 69/100\n",
            "75/75 [==============================] - 5s 66ms/step - loss: 1.4158 - mae: 1.8559 - val_loss: 1.5191 - val_mae: 1.9553\n",
            "Epoch 70/100\n",
            "75/75 [==============================] - 5s 68ms/step - loss: 1.3860 - mae: 1.8251 - val_loss: 1.4573 - val_mae: 1.8890\n",
            "Epoch 71/100\n",
            "75/75 [==============================] - 5s 69ms/step - loss: 1.3771 - mae: 1.8167 - val_loss: 1.5446 - val_mae: 1.9882\n",
            "Epoch 72/100\n",
            "75/75 [==============================] - 6s 72ms/step - loss: 1.3624 - mae: 1.8004 - val_loss: 2.6202 - val_mae: 3.1137\n",
            "Epoch 73/100\n",
            "75/75 [==============================] - 5s 69ms/step - loss: 1.3517 - mae: 1.7896 - val_loss: 1.5762 - val_mae: 2.0222\n",
            "Epoch 74/100\n",
            "75/75 [==============================] - 5s 69ms/step - loss: 1.3272 - mae: 1.7635 - val_loss: 1.9960 - val_mae: 2.4656\n",
            "Epoch 75/100\n",
            "75/75 [==============================] - 6s 73ms/step - loss: 1.3055 - mae: 1.7417 - val_loss: 2.0127 - val_mae: 2.4841\n",
            "Epoch 76/100\n",
            "75/75 [==============================] - 5s 69ms/step - loss: 1.2986 - mae: 1.7357 - val_loss: 2.0658 - val_mae: 2.5395\n",
            "Epoch 77/100\n",
            "75/75 [==============================] - 5s 65ms/step - loss: 1.2830 - mae: 1.7201 - val_loss: 1.6521 - val_mae: 2.1050\n",
            "Epoch 78/100\n",
            "75/75 [==============================] - 5s 67ms/step - loss: 1.2568 - mae: 1.6915 - val_loss: 2.0219 - val_mae: 2.4946\n",
            "Epoch 79/100\n",
            "75/75 [==============================] - 5s 67ms/step - loss: 1.2388 - mae: 1.6724 - val_loss: 1.6862 - val_mae: 2.1410\n",
            "Epoch 80/100\n",
            "75/75 [==============================] - 5s 67ms/step - loss: 1.2563 - mae: 1.6916 - val_loss: 1.2764 - val_mae: 1.7004\n",
            "Epoch 81/100\n",
            "75/75 [==============================] - 5s 69ms/step - loss: 1.3008 - mae: 1.7376 - val_loss: 2.3854 - val_mae: 2.8736\n",
            "Epoch 82/100\n",
            "75/75 [==============================] - 5s 69ms/step - loss: 1.2055 - mae: 1.6385 - val_loss: 1.7939 - val_mae: 2.2563\n",
            "Epoch 83/100\n",
            "75/75 [==============================] - 5s 69ms/step - loss: 1.1999 - mae: 1.6314 - val_loss: 1.5203 - val_mae: 1.9662\n",
            "Epoch 84/100\n",
            "75/75 [==============================] - 6s 72ms/step - loss: 1.2099 - mae: 1.6434 - val_loss: 1.7701 - val_mae: 2.2323\n",
            "Epoch 85/100\n",
            "75/75 [==============================] - 6s 74ms/step - loss: 1.1777 - mae: 1.6093 - val_loss: 1.3059 - val_mae: 1.7334\n",
            "Epoch 86/100\n",
            "75/75 [==============================] - 5s 67ms/step - loss: 1.1954 - mae: 1.6280 - val_loss: 1.7483 - val_mae: 2.2104\n",
            "Epoch 87/100\n",
            "75/75 [==============================] - 5s 66ms/step - loss: 1.1586 - mae: 1.5898 - val_loss: 2.2699 - val_mae: 2.7558\n",
            "Epoch 88/100\n",
            "75/75 [==============================] - 5s 67ms/step - loss: 1.1650 - mae: 1.5954 - val_loss: 1.9161 - val_mae: 2.3867\n",
            "Epoch 89/100\n",
            "75/75 [==============================] - 5s 67ms/step - loss: 1.1474 - mae: 1.5771 - val_loss: 1.2594 - val_mae: 1.6853\n",
            "Epoch 90/100\n",
            "75/75 [==============================] - 5s 69ms/step - loss: 1.1528 - mae: 1.5842 - val_loss: 1.9542 - val_mae: 2.4276\n",
            "Epoch 91/100\n",
            "75/75 [==============================] - 5s 68ms/step - loss: 1.1340 - mae: 1.5637 - val_loss: 2.2983 - val_mae: 2.7866\n",
            "Epoch 92/100\n",
            "75/75 [==============================] - 5s 66ms/step - loss: 1.1379 - mae: 1.5683 - val_loss: 1.7260 - val_mae: 2.1875\n",
            "Epoch 93/100\n",
            "75/75 [==============================] - 5s 68ms/step - loss: 1.1325 - mae: 1.5618 - val_loss: 2.6696 - val_mae: 3.1664\n",
            "Epoch 94/100\n",
            "75/75 [==============================] - 5s 66ms/step - loss: 1.1016 - mae: 1.5298 - val_loss: 2.1150 - val_mae: 2.5950\n",
            "Epoch 95/100\n",
            "75/75 [==============================] - 6s 72ms/step - loss: 1.1113 - mae: 1.5401 - val_loss: 1.6990 - val_mae: 2.1581\n",
            "Epoch 96/100\n",
            "75/75 [==============================] - 5s 69ms/step - loss: 1.1134 - mae: 1.5419 - val_loss: 1.6744 - val_mae: 2.1322\n",
            "Epoch 97/100\n",
            "75/75 [==============================] - 5s 66ms/step - loss: 1.0885 - mae: 1.5156 - val_loss: 1.6297 - val_mae: 2.0869\n",
            "Epoch 98/100\n",
            "75/75 [==============================] - 5s 68ms/step - loss: 1.0928 - mae: 1.5202 - val_loss: 1.9074 - val_mae: 2.3800\n",
            "Epoch 99/100\n",
            "75/75 [==============================] - 5s 67ms/step - loss: 1.1537 - mae: 1.5843 - val_loss: 1.6502 - val_mae: 2.1090\n",
            "Epoch 100/100\n",
            "75/75 [==============================] - 5s 67ms/step - loss: 1.0944 - mae: 1.5219 - val_loss: 1.9523 - val_mae: 2.4262\n"
          ]
        }
      ]
    },
    {
      "cell_type": "code",
      "metadata": {
        "id": "LhfQfnVmr9P8",
        "colab": {
          "base_uri": "https://localhost:8080/",
          "height": 295
        },
        "outputId": "62ea027a-b3ae-4fe9-a308-3cb776543133"
      },
      "source": [
        "import matplotlib.pyplot as plt\n",
        "\n",
        "# membuat plot untuk nilai Loss dari model\n",
        "plt.plot(history.history['loss'])\n",
        "plt.plot(history.history['val_loss'])\n",
        "plt.title('Model loss')\n",
        "plt.ylabel('Loss')\n",
        "plt.xlabel('Epoch')\n",
        "plt.legend(['Train', 'Test'], loc='upper right')\n",
        "plt.show()"
      ],
      "execution_count": 700,
      "outputs": [
        {
          "output_type": "display_data",
          "data": {
            "image/png": "[encoded data removed]",
            "text/plain": [
              "<Figure size 432x288 with 1 Axes>"
            ]
          },
          "metadata": {
            "needs_background": "light"
          }
        }
      ]
    },
    {
      "cell_type": "code",
      "metadata": {
        "id": "n7vGp71TsBrO",
        "colab": {
          "base_uri": "https://localhost:8080/",
          "height": 295
        },
        "outputId": "f752c3dc-9d4f-45c0-9e56-e512b9882514"
      },
      "source": [
        "# membuat plot untuk MAE dari model\n",
        "plt.plot(history.history['mae'])\n",
        "plt.plot(history.history['val_mae'])\n",
        "plt.title('Model MAE')\n",
        "plt.ylabel('MAE')\n",
        "plt.xlabel('Epoch')\n",
        "plt.legend(['Train', 'Test'], loc='upper right')\n",
        "plt.show()"
      ],
      "execution_count": 701,
      "outputs": [
        {
          "output_type": "display_data",
          "data": {
            "image/png": "[encoded data removed]",
            "text/plain": [
              "<Figure size 432x288 with 1 Axes>"
            ]
          },
          "metadata": {
            "needs_background": "light"
          }
        }
      ]
    }
  ]
}